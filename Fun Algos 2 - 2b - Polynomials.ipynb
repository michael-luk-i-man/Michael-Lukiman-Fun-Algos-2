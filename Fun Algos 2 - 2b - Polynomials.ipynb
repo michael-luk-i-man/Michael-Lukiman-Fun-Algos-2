{
 "cells": [
  {
   "cell_type": "code",
   "execution_count": 60,
   "metadata": {},
   "outputs": [
    {
     "name": "stdout",
     "output_type": "stream",
     "text": [
      "9\n"
     ]
    }
   ],
   "source": [
    "# 2b\n",
    "# Michael Lukiman - Fun Algos 2\n",
    "\n",
    "A = [7, -3, 5] # example array\n",
    "output = 0\n",
    "def Eval(A, n, c): \n",
    "    global output\n",
    "    if n >= len(A): # if n is out of range\n",
    "        n = len(A) - 1\n",
    "        Eval(A,n,c)\n",
    "    else:\n",
    "        if n >= 0:\n",
    "                output += (A[n])*(c**n) # add em up \n",
    "                n = n - 1 \n",
    "                Eval(A,n,c)\n",
    "    return output\n",
    "\n",
    "\n",
    "print(Eval(A, 2, 1))\n"
   ]
  },
  {
   "cell_type": "code",
   "execution_count": 61,
   "metadata": {},
   "outputs": [
    {
     "ename": "SyntaxError",
     "evalue": "invalid syntax (<ipython-input-61-b806085f1d99>, line 7)",
     "output_type": "error",
     "traceback": [
      "\u001b[0;36m  File \u001b[0;32m\"<ipython-input-61-b806085f1d99>\"\u001b[0;36m, line \u001b[0;32m7\u001b[0m\n\u001b[0;31m    def Eval2(P, c)\u001b[0m\n\u001b[0m                   ^\u001b[0m\n\u001b[0;31mSyntaxError\u001b[0m\u001b[0;31m:\u001b[0m invalid syntax\n"
     ]
    }
   ],
   "source": [
    "\n",
    "P = [P_0, P_1] # where P_0, P_1 can be other arrays of poly degree n/2\n",
    "output = 0\n",
    "n = len(P)-1\n",
    "\n",
    "\n",
    "def Eval2(P, c)\n",
    "    global output\n",
    "    global n\n",
    "    if n<len(P):\n",
    "        output += P[n] * ((c*(n/2))**n)\n",
    "        n = n - 1\n",
    "        Eval2(P, c)\n",
    "    return output"
   ]
  },
  {
   "cell_type": "code",
   "execution_count": 68,
   "metadata": {},
   "outputs": [
    {
     "name": "stdout",
     "output_type": "stream",
     "text": [
      "4\n"
     ]
    }
   ],
   "source": [
    "def foo(n):\n",
    "\tif n == 1:\n",
    "\t\treturn 1\n",
    "\telse:\n",
    "\t\treturn foo(n/3) + foo(n/3)\n",
    "\n",
    "print(foo(9))"
   ]
  },
  {
   "cell_type": "code",
   "execution_count": 72,
   "metadata": {},
   "outputs": [
    {
     "name": "stdout",
     "output_type": "stream",
     "text": [
      "16\n"
     ]
    }
   ],
   "source": [
    "def foo(n):\n",
    "\tif n == 1:\n",
    "\t\treturn 1\n",
    "\telse:\n",
    "\t\treturn 2 * foo(n/3)\n",
    "\n",
    "print(foo(81))"
   ]
  },
  {
   "cell_type": "code",
   "execution_count": 87,
   "metadata": {},
   "outputs": [
    {
     "data": {
      "image/png": "[encoded data removed]",
      "text/plain": [
       "<matplotlib.figure.Figure at 0x7f787d137eb8>"
      ]
     },
     "metadata": {},
     "output_type": "display_data"
    }
   ],
   "source": [
    "import numpy as np, matplotlib as mpl, pylab as pl\n",
    "\n",
    "p3s = []\n",
    "for i in range(1,10):\n",
    "    p3s.append(3**i)\n",
    "\n",
    "x = []\n",
    "y = []\n",
    "\n",
    "def foo(n):\n",
    "\tif n == 1:\n",
    "\t\treturn 1\n",
    "\telse:\n",
    "\t\treturn 2 * foo(n/3)\n",
    "\n",
    "for element in p3s:\n",
    "    x.append(element)\n",
    "    y.append(foo(element))\n",
    "    \n",
    "pl.plot(x,y)\n",
    "pl.show()"
   ]
  },
  {
   "cell_type": "code",
   "execution_count": 6,
   "metadata": {},
   "outputs": [
    {
     "data": {
      "image/png": "[encoded data removed]",
      "text/plain": [
       "<matplotlib.figure.Figure at 0x7febd9070978>"
      ]
     },
     "metadata": {},
     "output_type": "display_data"
    }
   ],
   "source": [
    "import numpy as np, matplotlib as mpl, pylab as pl\n",
    "\n",
    "p3s = []\n",
    "for i in range(1,10):\n",
    "    p3s.append(3**i)\n",
    "\n",
    "x = []\n",
    "y = []\n",
    "\n",
    "def foo(n):\n",
    "    global counter \n",
    "    if n == 1:\n",
    "        return 1\n",
    "    else:\n",
    "        return foo(n/3) + foo(n/3)\n",
    "    counter += 1\n",
    "\n",
    "for element in p3s:\n",
    "    counter = 0\n",
    "    x.append(element)\n",
    "    y.append(foo(element))\n",
    "    \n",
    "pl.plot(x,y)\n",
    "pl.show()\n"
   ]
  }
 ],
 "metadata": {
  "kernelspec": {
   "display_name": "Python 3",
   "language": "python",
   "name": "python3"
  },
  "language_info": {
   "codemirror_mode": {
    "name": "ipython",
    "version": 3
   },
   "file_extension": ".py",
   "mimetype": "text/x-python",
   "name": "python",
   "nbconvert_exporter": "python",
   "pygments_lexer": "ipython3",
   "version": "3.6.2"
  }
 },
 "nbformat": 4,
 "nbformat_minor": 2
}
